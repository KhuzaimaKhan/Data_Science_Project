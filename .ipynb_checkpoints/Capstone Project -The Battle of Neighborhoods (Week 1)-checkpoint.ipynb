{
 "cells": [
  {
   "cell_type": "markdown",
   "metadata": {},
   "source": [
    "# Capstone Project -The Battle of Neighbourhoods (Week 1)"
   ]
  },
  {
   "cell_type": "markdown",
   "metadata": {},
   "source": [
    "## Introduction:"
   ]
  },
  {
   "cell_type": "markdown",
   "metadata": {},
   "source": [
    "This Project is to help people in exploring neighborhood that suits best for their Restaurant. It will help people making smart and efficient decision on selecting best neighbourhood out of other neighbourhoods in New York "
   ]
  },
  {
   "cell_type": "markdown",
   "metadata": {},
   "source": [
    "### Business Problem:"
   ]
  },
  {
   "cell_type": "markdown",
   "metadata": {},
   "source": [
    "The challenge is to suggest best neighborhoods in New York to open a Pakistan food restaurant Depends on how many other restaurants are there is there any other Pakistani Restaurant or not depending on people’s preferences and choices."
   ]
  },
  {
   "cell_type": "markdown",
   "metadata": {},
   "source": [
    "### Data Requirments:"
   ]
  },
  {
   "cell_type": "markdown",
   "metadata": {},
   "source": [
    "The data required to resolve this challenge is acquired from Four-square. Four-square has a database of millions of places and their APIs provides the ability to perform location search, location sharing and details about a business."
   ]
  },
  {
   "cell_type": "markdown",
   "metadata": {},
   "source": [
    "### Approach:"
   ]
  },
  {
   "cell_type": "markdown",
   "metadata": {},
   "source": [
    "Using credentials of Foursquare API, features of near-by places of the neighbourhoods will be explored. To explore neighbourhoods we need to segment neighbourhoods, and group them it into clusters.\n",
    "To be able to do that, we use k-means clustering algorithm which is an unsupervised machine learning approach.\n"
   ]
  },
  {
   "cell_type": "markdown",
   "metadata": {},
   "source": [
    "Libraries which will be used in this project are:\n",
    "Pandas: For creating and manipulating data frames.\n",
    "Folium: For visualize the neighbourhoods cluster distribution.\n",
    "Scikit Learn: For importing k-means clustering.\n",
    "Geocoder: To retrieve Location Data.\n",
    "Matplotlib: Python Plotting Module.\n",
    "JSON: To handle JSON files.\n"
   ]
  },
  {
   "cell_type": "code",
   "execution_count": null,
   "metadata": {},
   "outputs": [],
   "source": []
  }
 ],
 "metadata": {
  "kernelspec": {
   "display_name": "Python 3",
   "language": "python",
   "name": "python3"
  },
  "language_info": {
   "codemirror_mode": {
    "name": "ipython",
    "version": 3
   },
   "file_extension": ".py",
   "mimetype": "text/x-python",
   "name": "python",
   "nbconvert_exporter": "python",
   "pygments_lexer": "ipython3",
   "version": "3.7.6"
  }
 },
 "nbformat": 4,
 "nbformat_minor": 4
}
